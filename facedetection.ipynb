{
 "cells": [
  {
   "cell_type": "code",
   "execution_count": null,
   "metadata": {},
   "outputs": [],
   "source": [
    "import cv2\n",
    "import dlib\n",
    "import numpy as np"
   ]
  },
  {
   "cell_type": "code",
   "execution_count": null,
   "metadata": {},
   "outputs": [],
   "source": [
    "#creates a VideoCapture object that captures the video stream from the primary camera\n",
    "cap=cv2.VideoCapture(0)\n",
    "\n",
    "#face detector model\n",
    "face_detector = dlib.get_frontal_face_detector()\n",
    "\n",
    "#capture frames continuosly\n",
    "while True:\n",
    "    ret, frame = cap.read() #ret is a bool which indicate frame was successfully read or not\n",
    "    frame = cv2.flip(frame,1) #flips the frame horizontally\n",
    "\n",
    "    #RGB -> Grayscale\n",
    "    gray = cv2.cvtColor(frame, cv2.COLOR_BGR2GRAY) #convert colour from BGR to gray\n",
    "    faces = face_detector(gray) #applies face detection algorithm and return list of detected faces\n",
    "\n",
    "    #interate through all the faces and draw rectangle around each face and also number it\n",
    "    i=0\n",
    "    for face in faces:\n",
    "        #find the co-ordinate of the face\n",
    "        x,y =face.left(), face.top() #extract left and top corner and assign it to x and y\n",
    "        x1,y1 =face.right(), face.bottom() #extract right and bottom corner and assign it to x1 and y1\n",
    "\n",
    "        #draw the rectangle\n",
    "        cv2.rectangle(frame,(x,y),(x1,y1),(0,255,0),2) #this makes green rectangle around frame\n",
    "\n",
    "        i=i+1\n",
    "\n",
    "        cv2.putText(frame, \"Face num\"+ str(i), (x-10,y-10), cv2.FONT_HERSHEY_SIMPLEX, 0.7, (0,0,255),2) #it shows number of faces on frame\n",
    "\n",
    "    cv2.imshow('frame',frame)\n",
    "\n",
    "    #code to come out of infinite loop / interrupt the execution\n",
    "    if(cv2.waitKey(1) & 0xFF==ord('q')): #exits the programme when 'q' is pressed\n",
    "        break \n",
    "\n",
    "cap.release() #release VideoCapture object and frees the camera resource\n",
    "cv2.destroyAllWindows() #closes all the window created by imshow function."
   ]
  }
 ],
 "metadata": {
  "kernelspec": {
   "display_name": "Python 3",
   "language": "python",
   "name": "python3"
  },
  "language_info": {
   "codemirror_mode": {
    "name": "ipython",
    "version": 3
   },
   "file_extension": ".py",
   "mimetype": "text/x-python",
   "name": "python",
   "nbconvert_exporter": "python",
   "pygments_lexer": "ipython3",
   "version": "3.11.7"
  }
 },
 "nbformat": 4,
 "nbformat_minor": 2
}
